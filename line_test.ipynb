{
 "cells": [
  {
   "cell_type": "code",
   "execution_count": 3,
   "id": "5a5fd83b-9eb9-4bd2-b7f3-aa444dbbcff0",
   "metadata": {},
   "outputs": [],
   "source": [
    "import torch\n",
    "from torch.utils.data import DataLoader"
   ]
  },
  {
   "cell_type": "code",
   "execution_count": 7,
   "id": "838125e1-cd48-48ab-9257-7163d948510d",
   "metadata": {},
   "outputs": [
    {
     "name": "stdout",
     "output_type": "stream",
     "text": [
      "tensor([1.3630, 0.1614])\n"
     ]
    }
   ],
   "source": [
    "a = torch.rand(3,2, dtype=torch.float)\n",
    "\n",
    "b = torch.sum(a, dim=0)\n",
    "print(b)"
   ]
  },
  {
   "cell_type": "code",
   "execution_count": 8,
   "id": "f5ec9655-683f-41d0-b619-32da2f4a773b",
   "metadata": {},
   "outputs": [
    {
     "name": "stdout",
     "output_type": "stream",
     "text": [
      "b = tensor([1.3630, 0.1614])\n"
     ]
    }
   ],
   "source": [
    "print(f'b = {b}')"
   ]
  },
  {
   "cell_type": "code",
   "execution_count": 21,
   "id": "0aec30db-9325-45d3-b2fd-3394fa79d3b2",
   "metadata": {},
   "outputs": [
    {
     "data": {
      "text/plain": [
       "2000"
      ]
     },
     "execution_count": 21,
     "metadata": {},
     "output_type": "execute_result"
    }
   ],
   "source": [
    "num_samples = len(dataset)\n",
    "num_samples"
   ]
  },
  {
   "cell_type": "code",
   "execution_count": 26,
   "id": "1047972c-6a18-4dba-b369-30feff90854d",
   "metadata": {},
   "outputs": [],
   "source": [
    "for phi_initial, G, H in data_loader:\n",
    "    # Your model's forward pass or any processing here\n",
    "    # For example:\n",
    "    \n",
    "    \n",
    "    # If you have a loss function and want to compute the loss, do it here\n",
    "    # For example (pseudo-code, replace with your actual loss computation):\n",
    "    # loss = compute_loss(phi_optimal, G, H)\n",
    "    # print(\"Loss:\", loss.item())\n",
    "    \n",
    "    # Break the loop after the first batch is processed\n",
    "    break\n"
   ]
  },
  {
   "cell_type": "code",
   "execution_count": 37,
   "id": "d186397e-13b4-4b16-849d-7badb65e5d70",
   "metadata": {},
   "outputs": [
    {
     "data": {
      "text/plain": [
       "tensor([0.4103, 0.8133, 0.2483, 0.1301, 0.3107, 0.3057, 0.7692, 0.1381, 0.8278,\n",
       "        0.2647, 0.1290, 0.8614, 0.3947, 0.0053, 0.4461, 0.4295, 0.0554, 0.0972,\n",
       "        0.6366, 0.9581, 0.4017, 0.3792, 0.6758, 0.9396, 0.9583, 0.7087, 0.5769,\n",
       "        0.6082, 0.9202, 0.7605, 0.4262, 0.6851, 0.2321, 0.5259, 0.9020, 0.7471,\n",
       "        0.0040, 0.5544, 0.1810, 0.1961, 0.9727, 0.0354, 0.5781, 0.4200, 0.7156,\n",
       "        0.2349, 0.9701, 0.5097, 0.7773, 0.9901, 0.8702, 0.0194, 0.8989, 0.3563,\n",
       "        0.7711, 0.9368, 0.4712, 0.6518, 0.9492, 0.5678, 0.4816, 0.5509, 0.6404,\n",
       "        0.1746, 0.2941, 0.1003, 0.7663, 0.5223, 0.3816, 0.5960, 0.7648, 0.8284,\n",
       "        0.9499, 0.9106, 0.4220, 0.8406, 0.0394, 0.8961, 0.4902, 0.4351, 0.2357,\n",
       "        0.3859, 0.4104, 0.5843, 0.6497, 0.5361, 0.1584, 0.4209, 0.2389, 0.4354,\n",
       "        0.4133, 0.6335, 0.4386, 0.6104, 0.6937, 0.0262, 0.6358, 0.3590, 0.3177,\n",
       "        0.5307, 0.0539, 0.9724, 0.4601, 0.8359, 0.2791, 0.6448, 0.8562, 0.9358,\n",
       "        0.1467, 0.0358, 0.8595, 0.3923, 0.5823, 0.3331, 0.5049, 0.7101, 0.6704,\n",
       "        0.7681, 0.3332, 0.9390, 0.4120, 0.2541, 0.6369, 0.2528, 0.6887, 0.7295,\n",
       "        0.3475, 0.0677])"
      ]
     },
     "execution_count": 37,
     "metadata": {},
     "output_type": "execute_result"
    }
   ],
   "source": [
    "phi_initial.squeeze()"
   ]
  },
  {
   "cell_type": "code",
   "execution_count": 8,
   "id": "fa189692-3ab8-4120-8393-f1d697045d96",
   "metadata": {},
   "outputs": [
    {
     "ename": "IndentationError",
     "evalue": "unexpected indent (<ipython-input-8-80224c0b46bc>, line 2)",
     "output_type": "error",
     "traceback": [
      "\u001b[0;36m  File \u001b[0;32m\"<ipython-input-8-80224c0b46bc>\"\u001b[0;36m, line \u001b[0;32m2\u001b[0m\n\u001b[0;31m    data_loader = DataLoader(dataset, batch_size=1, shuffle=True)\u001b[0m\n\u001b[0m    ^\u001b[0m\n\u001b[0;31mIndentationError\u001b[0m\u001b[0;31m:\u001b[0m unexpected indent\n"
     ]
    }
   ],
   "source": [
    "dataset = ComplexValuedDataset('/storage/work/jbk5816/MATLAB/SINR max/SREL/240202_mkTrainingData/data_trd1.mat')\n",
    "    data_loader = DataLoader(dataset, batch_size=1, shuffle=True)\n",
    "\n",
    "    # Initialize model\n",
    "    model = SREL()\n",
    "    num_epochs = 100"
   ]
  },
  {
   "cell_type": "code",
   "execution_count": null,
   "id": "ba85ea2b-a8ac-41fc-857f-38e03a193079",
   "metadata": {},
   "outputs": [],
   "source": []
  }
 ],
 "metadata": {
  "kernelspec": {
   "display_name": "Python 3 (ipykernel)",
   "language": "python",
   "name": "python3"
  },
  "language_info": {
   "codemirror_mode": {
    "name": "ipython",
    "version": 3
   },
   "file_extension": ".py",
   "mimetype": "text/x-python",
   "name": "python",
   "nbconvert_exporter": "python",
   "pygments_lexer": "ipython3",
   "version": "3.10.2"
  }
 },
 "nbformat": 4,
 "nbformat_minor": 5
}
